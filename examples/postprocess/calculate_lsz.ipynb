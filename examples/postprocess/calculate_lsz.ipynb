{
 "cells": [
  {
   "cell_type": "code",
   "execution_count": null,
   "metadata": {},
   "outputs": [],
   "source": [
    "%load_ext autoreload\n",
    "%autoreload 2"
   ]
  },
  {
   "cell_type": "code",
   "execution_count": null,
   "metadata": {},
   "outputs": [],
   "source": [
    "from pathlib import Path\n",
    "import logging\n",
    "import glob\n",
    "import re\n",
    "import click\n",
    "import numpy as np\n",
    "import pandas as pd\n",
    "import xarray as xr\n",
    "import suxarray as sx\n",
    "import suxarray.helper\n",
    "import hvplot.xarray"
   ]
  },
  {
   "cell_type": "code",
   "execution_count": null,
   "metadata": {},
   "outputs": [],
   "source": [
    "case_name = \"2016_base\""
   ]
  },
  {
   "cell_type": "code",
   "execution_count": null,
   "metadata": {},
   "outputs": [],
   "source": [
    "chunks = {\"time\": 2}"
   ]
  },
  {
   "cell_type": "code",
   "execution_count": null,
   "metadata": {},
   "outputs": [],
   "source": [
    "path_study = Path(f\"/mnt/local/simulations/\") / case_name"
   ]
  },
  {
   "cell_type": "code",
   "execution_count": null,
   "metadata": {},
   "outputs": [],
   "source": [
    "date_base = pd.to_datetime(\"2016-04-27\")\n",
    "year = date_base.year\n",
    "date_start = pd.to_datetime(f\"{year}-07-01\")\n",
    "date_end = pd.to_datetime(f\"{year}-11-25\")"
   ]
  },
  {
   "cell_type": "code",
   "execution_count": null,
   "metadata": {},
   "outputs": [],
   "source": [
    "day_start = (date_start - date_base).days + 1\n",
    "day_end = (date_end - date_base).days + 1"
   ]
  },
  {
   "cell_type": "code",
   "execution_count": null,
   "metadata": {},
   "outputs": [],
   "source": [
    "output_items = {\n",
    "    \"out2d\": \"outputs/out2d_{}.nc\",\n",
    "}\n",
    "chunks = {\"time\": 2}\n",
    "list_nc_paths = {\n",
    "    k: [v.format(i) for i in range(day_start, day_end + 1)]\n",
    "    for k, v in output_items.items()\n",
    "}\n",
    "\n",
    "list_ds = []\n",
    "for _, v in list_nc_paths.items():\n",
    "    list_paths = [str(path_study / v[i]) for i in range(len(v))]\n",
    "    ds = suxarray.helper.read_schism_nc(list_paths, chunks=chunks)\n",
    "    list_ds.append(ds)\n",
    "\n",
    "ds = xr.merge(list_ds)\n",
    "if sx.get_topology_variable(ds) is None:\n",
    "    ds = sx.add_topology_variable(ds)\n",
    "ds = sx.coerce_mesh_name(ds)\n",
    "\n",
    "sx_ds = sx.Dataset(ds, sxgrid=sx.Grid(ds))"
   ]
  },
  {
   "cell_type": "code",
   "execution_count": null,
   "metadata": {},
   "outputs": [],
   "source": [
    "sx_ds"
   ]
  },
  {
   "cell_type": "code",
   "execution_count": null,
   "metadata": {},
   "outputs": [],
   "source": [
    "path_postprocess = path_study / \"postprocess\""
   ]
  },
  {
   "cell_type": "code",
   "execution_count": null,
   "metadata": {},
   "outputs": [],
   "source": [
    "chunks = {\"time\": 48}\n",
    "path_depth_averaged_salinity_at_face = path_postprocess / \"depth_averaged_salinity_at_face.nc\"\n",
    "ds_depth_averaged_salinity_at_face = xr.open_mfdataset(path_depth_averaged_salinity_at_face, chunks=chunks)\n",
    "da_depth_averaged_salinity_at_face = ds_depth_averaged_salinity_at_face[\"depth_averaged_salinity_at_face\"]"
   ]
  },
  {
   "cell_type": "code",
   "execution_count": null,
   "metadata": {},
   "outputs": [],
   "source": [
    "da_depth_averaged_salinity_at_face"
   ]
  },
  {
   "cell_type": "code",
   "execution_count": null,
   "metadata": {},
   "outputs": [],
   "source": [
    "def shift_30min_up(da):\n",
    "    \"\"\"Shift time coordinate 30 minutes up\"\"\"\n",
    "    return da.assign_coords(time=da.coords[\"time\"] - pd.to_timedelta(\"30m\"))\n"
   ]
  },
  {
   "cell_type": "code",
   "execution_count": null,
   "metadata": {},
   "outputs": [],
   "source": [
    "da_salinity_less_than_6 = xr.where(da_depth_averaged_salinity_at_face < 6.0, 1.0, 0.0)\n",
    "da_salinity_less_than_6_daily = da_salinity_less_than_6.resample(time=\"1D\", origin=\"start\").mean()"
   ]
  },
  {
   "cell_type": "code",
   "execution_count": null,
   "metadata": {},
   "outputs": [],
   "source": [
    "da_salinity_less_than_7 = xr.where(da_depth_averaged_salinity_at_face < 7.0, 1.0, 0.0)\n",
    "da_salinity_less_than_7_daily = da_salinity_less_than_7.resample(time=\"1D\", origin=\"start\").mean()"
   ]
  },
  {
   "cell_type": "code",
   "execution_count": null,
   "metadata": {},
   "outputs": [],
   "source": [
    "da_face_areas = sx_ds.sxgrid.compute_face_areas()"
   ]
  },
  {
   "cell_type": "code",
   "execution_count": null,
   "metadata": {},
   "outputs": [],
   "source": [
    "da_salinity_less_than_6_daily.dot(da_face_areas)"
   ]
  },
  {
   "cell_type": "markdown",
   "metadata": {},
   "source": [
    "## Subregion"
   ]
  },
  {
   "cell_type": "code",
   "execution_count": null,
   "metadata": {},
   "outputs": [],
   "source": []
  }
 ],
 "metadata": {
  "kernelspec": {
   "display_name": "suxarray",
   "language": "python",
   "name": "python3"
  },
  "language_info": {
   "codemirror_mode": {
    "name": "ipython",
    "version": 3
   },
   "file_extension": ".py",
   "mimetype": "text/x-python",
   "name": "python",
   "nbconvert_exporter": "python",
   "pygments_lexer": "ipython3",
   "version": "3.10.12"
  },
  "orig_nbformat": 4
 },
 "nbformat": 4,
 "nbformat_minor": 2
}
